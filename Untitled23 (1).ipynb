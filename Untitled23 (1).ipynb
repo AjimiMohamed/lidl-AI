{
  "nbformat": 4,
  "nbformat_minor": 0,
  "metadata": {
    "colab": {
      "provenance": []
    },
    "kernelspec": {
      "name": "python3",
      "display_name": "Python 3"
    },
    "language_info": {
      "name": "python"
    }
  },
  "cells": [
    {
      "cell_type": "code",
      "execution_count": 1,
      "metadata": {
        "colab": {
          "base_uri": "https://localhost:8080/"
        },
        "id": "_Gfi0cvVkDfK",
        "outputId": "ab9a141b-8da4-4074-9233-8e4100ca7f94"
      },
      "outputs": [
        {
          "output_type": "stream",
          "name": "stdout",
          "text": [
            "/bin/bash: line 1: nvidia-smi: command not found\n"
          ]
        }
      ],
      "source": [
        "!nvidia-smi"
      ]
    },
    {
      "cell_type": "code",
      "source": [
        "import os\n",
        "HOME = os.getcwd()\n",
        "print(HOME)"
      ],
      "metadata": {
        "colab": {
          "base_uri": "https://localhost:8080/"
        },
        "id": "-tbo2HfgkGPp",
        "outputId": "1396683d-9270-4278-a8aa-1aedb8d9d391"
      },
      "execution_count": 2,
      "outputs": [
        {
          "output_type": "stream",
          "name": "stdout",
          "text": [
            "/content\n"
          ]
        }
      ]
    },
    {
      "cell_type": "code",
      "source": [
        "# Pip install method (recommended)\n",
        "\n",
        "!pip install ultralytics==8.0.196\n",
        "\n",
        "from IPython import display\n",
        "display.clear_output()\n",
        "\n",
        "import ultralytics\n",
        "ultralytics.checks()"
      ],
      "metadata": {
        "colab": {
          "base_uri": "https://localhost:8080/"
        },
        "id": "W58TQOrBkMJM",
        "outputId": "5e430612-7ff9-4fda-ba19-b02148a0c455"
      },
      "execution_count": 3,
      "outputs": [
        {
          "output_type": "stream",
          "name": "stderr",
          "text": [
            "Ultralytics YOLOv8.0.196 🚀 Python-3.10.12 torch-2.3.0+cu121 CPU (Intel Xeon 2.20GHz)\n",
            "Setup complete ✅ (2 CPUs, 12.7 GB RAM, 30.2/107.7 GB disk)\n"
          ]
        }
      ]
    },
    {
      "cell_type": "code",
      "source": [
        "from ultralytics import YOLO\n",
        "\n",
        "from IPython.display import display, Image"
      ],
      "metadata": {
        "id": "hjZoobjmkOv7"
      },
      "execution_count": 4,
      "outputs": []
    },
    {
      "cell_type": "code",
      "source": [
        "%cd {HOME}\n",
        "!yolo task=detect mode=predict model=best.pt conf=0.25 source='ariel.png' save=True"
      ],
      "metadata": {
        "id": "CLo0TPAwkVGZ",
        "colab": {
          "base_uri": "https://localhost:8080/"
        },
        "outputId": "83642e10-5ed4-4d13-e80b-963d2709d952"
      },
      "execution_count": 5,
      "outputs": [
        {
          "output_type": "stream",
          "name": "stdout",
          "text": [
            "/content\n",
            "Ultralytics YOLOv8.0.196 🚀 Python-3.10.12 torch-2.3.0+cu121 CPU (Intel Xeon 2.20GHz)\n",
            "Model summary (fused): 168 layers, 11127519 parameters, 0 gradients, 28.4 GFLOPs\n",
            "\n",
            "image 1/1 /content/ariel.png: 800x800 8 Detergents, 1008.0ms\n",
            "Speed: 27.6ms preprocess, 1008.0ms inference, 29.5ms postprocess per image at shape (1, 3, 800, 800)\n",
            "Results saved to \u001b[1mruns/detect/predict\u001b[0m\n",
            "💡 Learn more at https://docs.ultralytics.com/modes/predict\n"
          ]
        }
      ]
    },
    {
      "cell_type": "code",
      "source": [
        "from ultralytics import YOLO\n",
        "\n",
        "# Load a model\n",
        "model = YOLO(\"best.pt\")  # pretrained YOLOv8n model\n",
        "\n",
        "# Run batched inference on a list of images\n",
        "results = model([\"ariel.png\"])  # return a list of Results objects\n",
        "\n",
        "names = model.names\n",
        "\n",
        "# Initialize a dictionary to store the count of each class detected\n",
        "detections_count = {}\n",
        "\n",
        "# Iterate through each result and each detected class\n",
        "for r in results:\n",
        "    for c in r.boxes.cls:\n",
        "        class_name = names[int(c)]\n",
        "        if class_name in detections_count:\n",
        "            detections_count[class_name] += 1\n",
        "        else:\n",
        "            detections_count[class_name] = 1\n",
        "\n",
        "# Now, detections_count will have the number of detections for each class\n",
        "print(detections_count)\n"
      ],
      "metadata": {
        "colab": {
          "base_uri": "https://localhost:8080/"
        },
        "id": "wsgiw0NVultj",
        "outputId": "70af6f24-2422-444f-e868-69d0cf17310a"
      },
      "execution_count": 39,
      "outputs": [
        {
          "output_type": "stream",
          "name": "stderr",
          "text": [
            "\n",
            "0: 800x800 8 Detergents, 916.5ms\n",
            "Speed: 6.0ms preprocess, 916.5ms inference, 1.3ms postprocess per image at shape (1, 3, 800, 800)\n"
          ]
        },
        {
          "output_type": "stream",
          "name": "stdout",
          "text": [
            "{'Detergent': 8}\n"
          ]
        }
      ]
    },
    {
      "cell_type": "code",
      "source": [
        "{'Detergent': 8 , 'Coffe': 2 , 'Beans': 1}"
      ],
      "metadata": {
        "id": "GTREDS5Q2zGG"
      },
      "execution_count": 39,
      "outputs": []
    }
  ]
}